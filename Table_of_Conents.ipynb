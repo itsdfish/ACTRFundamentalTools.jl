{
 "cells": [
  {
   "cell_type": "markdown",
   "id": "00ed116f",
   "metadata": {},
   "source": [
    "# Table of contents\n",
    "\n",
    "Click on a model below to launch the tutorial notebook.\n",
    "\n",
    "1. [Semantic Model](models/Semantic/Semantic_Model.ipynb)\n",
    "2. [Count Model](models/Count/Count_Model.ipynb)\n",
    "3. [Siegler Addition Model](models/Siegler/Siegler_Model.ipynb)\n",
    "4. [Paired Associates Model](models/Paired/Paired_Model.ipynb)\n",
    "5. [Semantic Model FFT](models/Semantic_FFT/Semantic_FFT_Model.ipynb)"
   ]
  },
  {
   "cell_type": "code",
   "execution_count": null,
   "id": "1bc7d211",
   "metadata": {},
   "outputs": [],
   "source": []
  }
 ],
 "metadata": {
  "kernelspec": {
   "display_name": "Julia 1.6.2",
   "language": "julia",
   "name": "julia-1.6"
  },
  "language_info": {
   "file_extension": ".jl",
   "mimetype": "application/julia",
   "name": "julia",
   "version": "1.6.2"
  }
 },
 "nbformat": 4,
 "nbformat_minor": 5
}
